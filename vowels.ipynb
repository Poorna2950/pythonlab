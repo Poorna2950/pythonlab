{
 "cells": [
  {
   "cell_type": "code",
   "execution_count": 1,
   "id": "472ca601-65e2-41a0-af48-4315ea5c434b",
   "metadata": {},
   "outputs": [
    {
     "name": "stdout",
     "output_type": "stream",
     "text": [
      "3\n",
      "1\n",
      "6\n"
     ]
    }
   ],
   "source": [
    "def count_vowels(s):\n",
    "    vowels = \"aeiouAEIOU\"\n",
    "    return sum(1 for char in s if char in vowels)\n",
    "print(count_vowels(\"Hello World\"))   \n",
    "print(count_vowels(\"Python\"))        \n",
    "print(count_vowels(\"Beautiful Day\")) \n"
   ]
  },
  {
   "cell_type": "code",
   "execution_count": null,
   "id": "acdfc760-52ac-4236-b021-4fd399dc684e",
   "metadata": {},
   "outputs": [],
   "source": []
  }
 ],
 "metadata": {
  "kernelspec": {
   "display_name": "Python 3 (ipykernel)",
   "language": "python",
   "name": "python3"
  },
  "language_info": {
   "codemirror_mode": {
    "name": "ipython",
    "version": 3
   },
   "file_extension": ".py",
   "mimetype": "text/x-python",
   "name": "python",
   "nbconvert_exporter": "python",
   "pygments_lexer": "ipython3",
   "version": "3.12.7"
  }
 },
 "nbformat": 4,
 "nbformat_minor": 5
}
